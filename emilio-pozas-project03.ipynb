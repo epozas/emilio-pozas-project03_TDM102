{
 "cells": [
  {
   "cell_type": "markdown",
   "id": "be02a957-7133-4d02-818e-fedeb3cecb05",
   "metadata": {},
   "source": [
    "# Project 03 -- Emilio Pozas"
   ]
  },
  {
   "cell_type": "markdown",
   "id": "a1228853-dd19-4ab2-89e0-0394d7d72de3",
   "metadata": {},
   "source": [
    "**TA Help:** \n",
    "    - Videos on examples book\n",
    "    \n",
    "**Collaboration:** "
   ]
  },
  {
   "cell_type": "markdown",
   "id": "6180e742-8e39-4698-98ff-5b00c8cf8ea0",
   "metadata": {},
   "source": [
    "## Question 1"
   ]
  },
  {
   "cell_type": "code",
   "execution_count": 10,
   "id": "49445606-d363-41b4-b479-e319a9a84c01",
   "metadata": {},
   "outputs": [],
   "source": [
    "import os"
   ]
  },
  {
   "cell_type": "code",
   "execution_count": 6,
   "id": "35586224-8cce-42ce-bb80-aca3f14cf64d",
   "metadata": {},
   "outputs": [
    {
     "data": {
      "text/plain": [
       "266"
      ]
     },
     "execution_count": 6,
     "metadata": {},
     "output_type": "execute_result"
    }
   ],
   "source": [
    "len(os.listdir('/anvil/projects/tdm/data/noaa/'))#Help from videos"
   ]
  },
  {
   "cell_type": "code",
   "execution_count": 15,
   "id": "09455c1e-d33e-49c9-ac60-714b7ab3a03b",
   "metadata": {},
   "outputs": [],
   "source": [
    "import pandas as pd\n",
    "from pathlib import Path"
   ]
  },
  {
   "cell_type": "code",
   "execution_count": 17,
   "id": "9e67288b-70ec-4f3d-9381-2ed80499e5d5",
   "metadata": {},
   "outputs": [
    {
     "name": "stdout",
     "output_type": "stream",
     "text": [
      "[PosixPath('/anvil/projects/tdm/data/noaa/1880.csv'), PosixPath('/anvil/projects/tdm/data/noaa/1881.csv'), PosixPath('/anvil/projects/tdm/data/noaa/1882.csv'), PosixPath('/anvil/projects/tdm/data/noaa/1883.csv')]\n"
     ]
    }
   ],
   "source": [
    "myfiles=[]\n",
    "for year in range (1880, 1884):\n",
    "    file= Path(f'/anvil/projects/tdm/data/noaa/{year}.csv')\n",
    "    myfiles.append(file)\n",
    "print(myfiles)"
   ]
  },
  {
   "cell_type": "code",
   "execution_count": 22,
   "id": "178a272a-fe10-4908-9638-c0cee843383e",
   "metadata": {},
   "outputs": [
    {
     "name": "stdout",
     "output_type": "stream",
     "text": [
      "[PosixPath('/anvil/projects/tdm/data/noaa/1880.csv'), PosixPath('/anvil/projects/tdm/data/noaa/1881.csv'), PosixPath('/anvil/projects/tdm/data/noaa/1882.csv'), PosixPath('/anvil/projects/tdm/data/noaa/1883.csv')]\n"
     ]
    }
   ],
   "source": [
    "myfiles = [ Path(f'/anvil/projects/tdm/data/noaa/{year}.csv') for year in range (1880,1884)]\n",
    "print(myfiles)"
   ]
  },
  {
   "cell_type": "markdown",
   "id": "fc601975-35ed-4680-a4e1-0273ee3cc047",
   "metadata": {},
   "source": [
    "## Question 2"
   ]
  },
  {
   "cell_type": "code",
   "execution_count": 24,
   "id": "a16336a1-1ef0-41e8-bc7c-49387db27497",
   "metadata": {},
   "outputs": [
    {
     "name": "stdout",
     "output_type": "stream",
     "text": [
      "There are 370779 records in the file called /anvil/projects/tdm/data/noaa/1883.csv\n"
     ]
    }
   ],
   "source": [
    "with open('/anvil/projects/tdm/data/noaa/1880.csv',\"r\") as f:\n",
    "    mycount = 0\n",
    "    for line in f:\n",
    "        mycount += 1\n",
    "print(f'There are {mycount} records in the file called {file}')"
   ]
  },
  {
   "cell_type": "code",
   "execution_count": 34,
   "id": "31a86ed6-809d-4609-90cd-20b2267aa365",
   "metadata": {},
   "outputs": [
    {
     "name": "stdout",
     "output_type": "stream",
     "text": [
      "There are 1906862 records in the 4 files altogether\n"
     ]
    }
   ],
   "source": [
    "count = 0\n",
    "for x in myfiles:\n",
    "    with open(x,\"r\") as f:\n",
    "        count += mycount\n",
    "        mycount = 0\n",
    "        for line in f:\n",
    "            mycount += 1\n",
    "files = len(myfiles)\n",
    "print(f'There are {count} records in the {files} files altogether')"
   ]
  },
  {
   "cell_type": "markdown",
   "id": "8e586edd-ff26-4ce2-8f6b-2424b26f2929",
   "metadata": {},
   "source": [
    "## Question 3"
   ]
  },
  {
   "cell_type": "code",
   "execution_count": 46,
   "id": "bbe0f40d-9655-4653-9ca8-886bdb61cb91",
   "metadata": {},
   "outputs": [],
   "source": [
    "myDF= pd.read_csv(myfiles[0])"
   ]
  },
  {
   "cell_type": "code",
   "execution_count": 47,
   "id": "b7d88c9a-8cc2-42c4-a73c-ae1363e07cfe",
   "metadata": {},
   "outputs": [
    {
     "data": {
      "text/html": [
       "<div>\n",
       "<style scoped>\n",
       "    .dataframe tbody tr th:only-of-type {\n",
       "        vertical-align: middle;\n",
       "    }\n",
       "\n",
       "    .dataframe tbody tr th {\n",
       "        vertical-align: top;\n",
       "    }\n",
       "\n",
       "    .dataframe thead th {\n",
       "        text-align: right;\n",
       "    }\n",
       "</style>\n",
       "<table border=\"1\" class=\"dataframe\">\n",
       "  <thead>\n",
       "    <tr style=\"text-align: right;\">\n",
       "      <th></th>\n",
       "      <th>AGE00147705</th>\n",
       "      <th>18800101</th>\n",
       "      <th>PRCP</th>\n",
       "      <th>0</th>\n",
       "      <th>Unnamed: 4</th>\n",
       "      <th>Unnamed: 5</th>\n",
       "      <th>E</th>\n",
       "      <th>Unnamed: 7</th>\n",
       "    </tr>\n",
       "  </thead>\n",
       "  <tbody>\n",
       "    <tr>\n",
       "      <th>0</th>\n",
       "      <td>AGE00147708</td>\n",
       "      <td>18800101</td>\n",
       "      <td>PRCP</td>\n",
       "      <td>36</td>\n",
       "      <td>NaN</td>\n",
       "      <td>NaN</td>\n",
       "      <td>E</td>\n",
       "      <td>NaN</td>\n",
       "    </tr>\n",
       "    <tr>\n",
       "      <th>1</th>\n",
       "      <td>AGE00147709</td>\n",
       "      <td>18800101</td>\n",
       "      <td>PRCP</td>\n",
       "      <td>36</td>\n",
       "      <td>NaN</td>\n",
       "      <td>NaN</td>\n",
       "      <td>E</td>\n",
       "      <td>NaN</td>\n",
       "    </tr>\n",
       "    <tr>\n",
       "      <th>2</th>\n",
       "      <td>AGE00147712</td>\n",
       "      <td>18800101</td>\n",
       "      <td>PRCP</td>\n",
       "      <td>0</td>\n",
       "      <td>NaN</td>\n",
       "      <td>NaN</td>\n",
       "      <td>E</td>\n",
       "      <td>NaN</td>\n",
       "    </tr>\n",
       "    <tr>\n",
       "      <th>3</th>\n",
       "      <td>AGE00147713</td>\n",
       "      <td>18800101</td>\n",
       "      <td>TMAX</td>\n",
       "      <td>52</td>\n",
       "      <td>NaN</td>\n",
       "      <td>NaN</td>\n",
       "      <td>E</td>\n",
       "      <td>NaN</td>\n",
       "    </tr>\n",
       "    <tr>\n",
       "      <th>4</th>\n",
       "      <td>AGE00147713</td>\n",
       "      <td>18800101</td>\n",
       "      <td>TMIN</td>\n",
       "      <td>0</td>\n",
       "      <td>NaN</td>\n",
       "      <td>NaN</td>\n",
       "      <td>E</td>\n",
       "      <td>NaN</td>\n",
       "    </tr>\n",
       "  </tbody>\n",
       "</table>\n",
       "</div>"
      ],
      "text/plain": [
       "   AGE00147705  18800101  PRCP   0 Unnamed: 4 Unnamed: 5  E  Unnamed: 7\n",
       "0  AGE00147708  18800101  PRCP  36        NaN        NaN  E         NaN\n",
       "1  AGE00147709  18800101  PRCP  36        NaN        NaN  E         NaN\n",
       "2  AGE00147712  18800101  PRCP   0        NaN        NaN  E         NaN\n",
       "3  AGE00147713  18800101  TMAX  52        NaN        NaN  E         NaN\n",
       "4  AGE00147713  18800101  TMIN   0        NaN        NaN  E         NaN"
      ]
     },
     "execution_count": 47,
     "metadata": {},
     "output_type": "execute_result"
    }
   ],
   "source": [
    "myDF.head()"
   ]
  },
  {
   "cell_type": "code",
   "execution_count": 48,
   "id": "13d9e5b3-ea31-447a-a2cb-f0e883825258",
   "metadata": {},
   "outputs": [
    {
     "data": {
      "text/html": [
       "<div>\n",
       "<style scoped>\n",
       "    .dataframe tbody tr th:only-of-type {\n",
       "        vertical-align: middle;\n",
       "    }\n",
       "\n",
       "    .dataframe tbody tr th {\n",
       "        vertical-align: top;\n",
       "    }\n",
       "\n",
       "    .dataframe thead th {\n",
       "        text-align: right;\n",
       "    }\n",
       "</style>\n",
       "<table border=\"1\" class=\"dataframe\">\n",
       "  <thead>\n",
       "    <tr style=\"text-align: right;\">\n",
       "      <th></th>\n",
       "      <th>AGE00147705</th>\n",
       "      <th>18800101</th>\n",
       "      <th>PRCP</th>\n",
       "      <th>0</th>\n",
       "      <th>Unnamed: 4</th>\n",
       "      <th>Unnamed: 5</th>\n",
       "      <th>E</th>\n",
       "      <th>Unnamed: 7</th>\n",
       "    </tr>\n",
       "  </thead>\n",
       "  <tbody>\n",
       "    <tr>\n",
       "      <th>370773</th>\n",
       "      <td>USW00093852</td>\n",
       "      <td>18801231</td>\n",
       "      <td>TMAX</td>\n",
       "      <td>39</td>\n",
       "      <td>NaN</td>\n",
       "      <td>NaN</td>\n",
       "      <td>X</td>\n",
       "      <td>NaN</td>\n",
       "    </tr>\n",
       "    <tr>\n",
       "      <th>370774</th>\n",
       "      <td>USW00093852</td>\n",
       "      <td>18801231</td>\n",
       "      <td>TMIN</td>\n",
       "      <td>-17</td>\n",
       "      <td>NaN</td>\n",
       "      <td>NaN</td>\n",
       "      <td>X</td>\n",
       "      <td>NaN</td>\n",
       "    </tr>\n",
       "    <tr>\n",
       "      <th>370775</th>\n",
       "      <td>USW00094728</td>\n",
       "      <td>18801231</td>\n",
       "      <td>TMAX</td>\n",
       "      <td>-122</td>\n",
       "      <td>NaN</td>\n",
       "      <td>NaN</td>\n",
       "      <td>0</td>\n",
       "      <td>NaN</td>\n",
       "    </tr>\n",
       "    <tr>\n",
       "      <th>370776</th>\n",
       "      <td>USW00094728</td>\n",
       "      <td>18801231</td>\n",
       "      <td>TMIN</td>\n",
       "      <td>-194</td>\n",
       "      <td>NaN</td>\n",
       "      <td>NaN</td>\n",
       "      <td>0</td>\n",
       "      <td>NaN</td>\n",
       "    </tr>\n",
       "    <tr>\n",
       "      <th>370777</th>\n",
       "      <td>USW00094728</td>\n",
       "      <td>18801231</td>\n",
       "      <td>PRCP</td>\n",
       "      <td>0</td>\n",
       "      <td>NaN</td>\n",
       "      <td>NaN</td>\n",
       "      <td>0</td>\n",
       "      <td>NaN</td>\n",
       "    </tr>\n",
       "  </tbody>\n",
       "</table>\n",
       "</div>"
      ],
      "text/plain": [
       "        AGE00147705  18800101  PRCP    0 Unnamed: 4 Unnamed: 5  E  Unnamed: 7\n",
       "370773  USW00093852  18801231  TMAX   39        NaN        NaN  X         NaN\n",
       "370774  USW00093852  18801231  TMIN  -17        NaN        NaN  X         NaN\n",
       "370775  USW00094728  18801231  TMAX -122        NaN        NaN  0         NaN\n",
       "370776  USW00094728  18801231  TMIN -194        NaN        NaN  0         NaN\n",
       "370777  USW00094728  18801231  PRCP    0        NaN        NaN  0         NaN"
      ]
     },
     "execution_count": 48,
     "metadata": {},
     "output_type": "execute_result"
    }
   ],
   "source": [
    "myDF.tail()"
   ]
  },
  {
   "cell_type": "code",
   "execution_count": 49,
   "id": "4445d3a5-e104-40e3-b05c-bf87c9dc14d7",
   "metadata": {},
   "outputs": [],
   "source": [
    "myDF= pd.read_csv(myfiles[0], header=None)"
   ]
  },
  {
   "cell_type": "code",
   "execution_count": 50,
   "id": "d62d9fdd-956e-41e6-a9c9-e8315cccbbca",
   "metadata": {},
   "outputs": [
    {
     "data": {
      "text/html": [
       "<div>\n",
       "<style scoped>\n",
       "    .dataframe tbody tr th:only-of-type {\n",
       "        vertical-align: middle;\n",
       "    }\n",
       "\n",
       "    .dataframe tbody tr th {\n",
       "        vertical-align: top;\n",
       "    }\n",
       "\n",
       "    .dataframe thead th {\n",
       "        text-align: right;\n",
       "    }\n",
       "</style>\n",
       "<table border=\"1\" class=\"dataframe\">\n",
       "  <thead>\n",
       "    <tr style=\"text-align: right;\">\n",
       "      <th></th>\n",
       "      <th>0</th>\n",
       "      <th>1</th>\n",
       "      <th>2</th>\n",
       "      <th>3</th>\n",
       "      <th>4</th>\n",
       "      <th>5</th>\n",
       "      <th>6</th>\n",
       "      <th>7</th>\n",
       "    </tr>\n",
       "  </thead>\n",
       "  <tbody>\n",
       "    <tr>\n",
       "      <th>0</th>\n",
       "      <td>AGE00147705</td>\n",
       "      <td>18800101</td>\n",
       "      <td>PRCP</td>\n",
       "      <td>0</td>\n",
       "      <td>NaN</td>\n",
       "      <td>NaN</td>\n",
       "      <td>E</td>\n",
       "      <td>NaN</td>\n",
       "    </tr>\n",
       "    <tr>\n",
       "      <th>1</th>\n",
       "      <td>AGE00147708</td>\n",
       "      <td>18800101</td>\n",
       "      <td>PRCP</td>\n",
       "      <td>36</td>\n",
       "      <td>NaN</td>\n",
       "      <td>NaN</td>\n",
       "      <td>E</td>\n",
       "      <td>NaN</td>\n",
       "    </tr>\n",
       "    <tr>\n",
       "      <th>2</th>\n",
       "      <td>AGE00147709</td>\n",
       "      <td>18800101</td>\n",
       "      <td>PRCP</td>\n",
       "      <td>36</td>\n",
       "      <td>NaN</td>\n",
       "      <td>NaN</td>\n",
       "      <td>E</td>\n",
       "      <td>NaN</td>\n",
       "    </tr>\n",
       "    <tr>\n",
       "      <th>3</th>\n",
       "      <td>AGE00147712</td>\n",
       "      <td>18800101</td>\n",
       "      <td>PRCP</td>\n",
       "      <td>0</td>\n",
       "      <td>NaN</td>\n",
       "      <td>NaN</td>\n",
       "      <td>E</td>\n",
       "      <td>NaN</td>\n",
       "    </tr>\n",
       "    <tr>\n",
       "      <th>4</th>\n",
       "      <td>AGE00147713</td>\n",
       "      <td>18800101</td>\n",
       "      <td>TMAX</td>\n",
       "      <td>52</td>\n",
       "      <td>NaN</td>\n",
       "      <td>NaN</td>\n",
       "      <td>E</td>\n",
       "      <td>NaN</td>\n",
       "    </tr>\n",
       "  </tbody>\n",
       "</table>\n",
       "</div>"
      ],
      "text/plain": [
       "             0         1     2   3    4    5  6   7\n",
       "0  AGE00147705  18800101  PRCP   0  NaN  NaN  E NaN\n",
       "1  AGE00147708  18800101  PRCP  36  NaN  NaN  E NaN\n",
       "2  AGE00147709  18800101  PRCP  36  NaN  NaN  E NaN\n",
       "3  AGE00147712  18800101  PRCP   0  NaN  NaN  E NaN\n",
       "4  AGE00147713  18800101  TMAX  52  NaN  NaN  E NaN"
      ]
     },
     "execution_count": 50,
     "metadata": {},
     "output_type": "execute_result"
    }
   ],
   "source": [
    "myDF.head()"
   ]
  },
  {
   "cell_type": "code",
   "execution_count": 52,
   "id": "210083ad-80b3-46fa-9e19-56cfb1ef4e0a",
   "metadata": {},
   "outputs": [
    {
     "data": {
      "text/html": [
       "<div>\n",
       "<style scoped>\n",
       "    .dataframe tbody tr th:only-of-type {\n",
       "        vertical-align: middle;\n",
       "    }\n",
       "\n",
       "    .dataframe tbody tr th {\n",
       "        vertical-align: top;\n",
       "    }\n",
       "\n",
       "    .dataframe thead th {\n",
       "        text-align: right;\n",
       "    }\n",
       "</style>\n",
       "<table border=\"1\" class=\"dataframe\">\n",
       "  <thead>\n",
       "    <tr style=\"text-align: right;\">\n",
       "      <th></th>\n",
       "      <th>id</th>\n",
       "      <th>date</th>\n",
       "      <th>element_code</th>\n",
       "      <th>value</th>\n",
       "      <th>mflag</th>\n",
       "      <th>qflag</th>\n",
       "      <th>sflag</th>\n",
       "      <th>obstime</th>\n",
       "    </tr>\n",
       "  </thead>\n",
       "  <tbody>\n",
       "    <tr>\n",
       "      <th>0</th>\n",
       "      <td>AGE00147705</td>\n",
       "      <td>18800101</td>\n",
       "      <td>PRCP</td>\n",
       "      <td>0</td>\n",
       "      <td>NaN</td>\n",
       "      <td>NaN</td>\n",
       "      <td>E</td>\n",
       "      <td>NaN</td>\n",
       "    </tr>\n",
       "    <tr>\n",
       "      <th>1</th>\n",
       "      <td>AGE00147708</td>\n",
       "      <td>18800101</td>\n",
       "      <td>PRCP</td>\n",
       "      <td>36</td>\n",
       "      <td>NaN</td>\n",
       "      <td>NaN</td>\n",
       "      <td>E</td>\n",
       "      <td>NaN</td>\n",
       "    </tr>\n",
       "    <tr>\n",
       "      <th>2</th>\n",
       "      <td>AGE00147709</td>\n",
       "      <td>18800101</td>\n",
       "      <td>PRCP</td>\n",
       "      <td>36</td>\n",
       "      <td>NaN</td>\n",
       "      <td>NaN</td>\n",
       "      <td>E</td>\n",
       "      <td>NaN</td>\n",
       "    </tr>\n",
       "    <tr>\n",
       "      <th>3</th>\n",
       "      <td>AGE00147712</td>\n",
       "      <td>18800101</td>\n",
       "      <td>PRCP</td>\n",
       "      <td>0</td>\n",
       "      <td>NaN</td>\n",
       "      <td>NaN</td>\n",
       "      <td>E</td>\n",
       "      <td>NaN</td>\n",
       "    </tr>\n",
       "    <tr>\n",
       "      <th>4</th>\n",
       "      <td>AGE00147713</td>\n",
       "      <td>18800101</td>\n",
       "      <td>TMAX</td>\n",
       "      <td>52</td>\n",
       "      <td>NaN</td>\n",
       "      <td>NaN</td>\n",
       "      <td>E</td>\n",
       "      <td>NaN</td>\n",
       "    </tr>\n",
       "    <tr>\n",
       "      <th>...</th>\n",
       "      <td>...</td>\n",
       "      <td>...</td>\n",
       "      <td>...</td>\n",
       "      <td>...</td>\n",
       "      <td>...</td>\n",
       "      <td>...</td>\n",
       "      <td>...</td>\n",
       "      <td>...</td>\n",
       "    </tr>\n",
       "    <tr>\n",
       "      <th>370774</th>\n",
       "      <td>USW00093852</td>\n",
       "      <td>18801231</td>\n",
       "      <td>TMAX</td>\n",
       "      <td>39</td>\n",
       "      <td>NaN</td>\n",
       "      <td>NaN</td>\n",
       "      <td>X</td>\n",
       "      <td>NaN</td>\n",
       "    </tr>\n",
       "    <tr>\n",
       "      <th>370775</th>\n",
       "      <td>USW00093852</td>\n",
       "      <td>18801231</td>\n",
       "      <td>TMIN</td>\n",
       "      <td>-17</td>\n",
       "      <td>NaN</td>\n",
       "      <td>NaN</td>\n",
       "      <td>X</td>\n",
       "      <td>NaN</td>\n",
       "    </tr>\n",
       "    <tr>\n",
       "      <th>370776</th>\n",
       "      <td>USW00094728</td>\n",
       "      <td>18801231</td>\n",
       "      <td>TMAX</td>\n",
       "      <td>-122</td>\n",
       "      <td>NaN</td>\n",
       "      <td>NaN</td>\n",
       "      <td>0</td>\n",
       "      <td>NaN</td>\n",
       "    </tr>\n",
       "    <tr>\n",
       "      <th>370777</th>\n",
       "      <td>USW00094728</td>\n",
       "      <td>18801231</td>\n",
       "      <td>TMIN</td>\n",
       "      <td>-194</td>\n",
       "      <td>NaN</td>\n",
       "      <td>NaN</td>\n",
       "      <td>0</td>\n",
       "      <td>NaN</td>\n",
       "    </tr>\n",
       "    <tr>\n",
       "      <th>370778</th>\n",
       "      <td>USW00094728</td>\n",
       "      <td>18801231</td>\n",
       "      <td>PRCP</td>\n",
       "      <td>0</td>\n",
       "      <td>NaN</td>\n",
       "      <td>NaN</td>\n",
       "      <td>0</td>\n",
       "      <td>NaN</td>\n",
       "    </tr>\n",
       "  </tbody>\n",
       "</table>\n",
       "<p>370779 rows × 8 columns</p>\n",
       "</div>"
      ],
      "text/plain": [
       "                 id      date element_code  value mflag qflag sflag  obstime\n",
       "0       AGE00147705  18800101         PRCP      0   NaN   NaN     E      NaN\n",
       "1       AGE00147708  18800101         PRCP     36   NaN   NaN     E      NaN\n",
       "2       AGE00147709  18800101         PRCP     36   NaN   NaN     E      NaN\n",
       "3       AGE00147712  18800101         PRCP      0   NaN   NaN     E      NaN\n",
       "4       AGE00147713  18800101         TMAX     52   NaN   NaN     E      NaN\n",
       "...             ...       ...          ...    ...   ...   ...   ...      ...\n",
       "370774  USW00093852  18801231         TMAX     39   NaN   NaN     X      NaN\n",
       "370775  USW00093852  18801231         TMIN    -17   NaN   NaN     X      NaN\n",
       "370776  USW00094728  18801231         TMAX   -122   NaN   NaN     0      NaN\n",
       "370777  USW00094728  18801231         TMIN   -194   NaN   NaN     0      NaN\n",
       "370778  USW00094728  18801231         PRCP      0   NaN   NaN     0      NaN\n",
       "\n",
       "[370779 rows x 8 columns]"
      ]
     },
     "execution_count": 52,
     "metadata": {},
     "output_type": "execute_result"
    }
   ],
   "source": [
    "pd.read_csv(myfiles[0],names = [\"id\",\"date\",\"element_code\",\"value\",\"mflag\",\"qflag\",\"sflag\",\"obstime\"])"
   ]
  },
  {
   "cell_type": "code",
   "execution_count": 55,
   "id": "f6deae75-1b24-4be5-9810-93da40f69258",
   "metadata": {},
   "outputs": [],
   "source": [
    "mydataframes = [pd.read_csv(myfiles[x],names = [\"id\",\"date\",\"element_code\",\"value\",\"mflag\",\"qflag\",\"sflag\",\"obstime\"]) for x in range(0,4)]"
   ]
  },
  {
   "cell_type": "code",
   "execution_count": 56,
   "id": "03032aea-21fc-4fc5-9c9a-f1daae635ed0",
   "metadata": {},
   "outputs": [
    {
     "name": "stdout",
     "output_type": "stream",
     "text": [
      "[                 id      date element_code  value mflag qflag sflag  obstime\n",
      "0       AGE00147705  18800101         PRCP      0   NaN   NaN     E      NaN\n",
      "1       AGE00147708  18800101         PRCP     36   NaN   NaN     E      NaN\n",
      "2       AGE00147709  18800101         PRCP     36   NaN   NaN     E      NaN\n",
      "3       AGE00147712  18800101         PRCP      0   NaN   NaN     E      NaN\n",
      "4       AGE00147713  18800101         TMAX     52   NaN   NaN     E      NaN\n",
      "...             ...       ...          ...    ...   ...   ...   ...      ...\n",
      "370774  USW00093852  18801231         TMAX     39   NaN   NaN     X      NaN\n",
      "370775  USW00093852  18801231         TMIN    -17   NaN   NaN     X      NaN\n",
      "370776  USW00094728  18801231         TMAX   -122   NaN   NaN     0      NaN\n",
      "370777  USW00094728  18801231         TMIN   -194   NaN   NaN     0      NaN\n",
      "370778  USW00094728  18801231         PRCP      0   NaN   NaN     0      NaN\n",
      "\n",
      "[370779 rows x 8 columns],                  id      date element_code  value mflag qflag sflag  obstime\n",
      "0       AGE00135039  18810101         PRCP     30   NaN   NaN     E      NaN\n",
      "1       AGE00147705  18810101         PRCP    479   NaN   NaN     E      NaN\n",
      "2       AGE00147708  18810101         PRCP    125   NaN   NaN     E      NaN\n",
      "3       AGE00147709  18810101         PRCP    125   NaN   NaN     E      NaN\n",
      "4       AGE00147711  18810101         PRCP      0   NaN   NaN     E      NaN\n",
      "...             ...       ...          ...    ...   ...   ...   ...      ...\n",
      "443265  UZM00038457  18811231         PRCP    100   NaN   NaN     r      NaN\n",
      "443266  UZM00038457  18811231         TAVG     -3   NaN   NaN     r      NaN\n",
      "443267  UZM00038618  18811231         TMIN    -71   NaN   NaN     r      NaN\n",
      "443268  UZM00038618  18811231         PRCP    161   NaN   NaN     r      NaN\n",
      "443269  UZM00038618  18811231         TAVG    -49   NaN   NaN     r      NaN\n",
      "\n",
      "[443270 rows x 8 columns],                  id      date element_code  value mflag qflag sflag  obstime\n",
      "0       AGE00135039  18820101         PRCP      0   NaN   NaN     E      NaN\n",
      "1       AGE00147705  18820101         PRCP      0   NaN   NaN     E      NaN\n",
      "2       AGE00147708  18820101         PRCP      0   NaN   NaN     E      NaN\n",
      "3       AGE00147709  18820101         PRCP      0   NaN   NaN     E      NaN\n",
      "4       AGE00147711  18820101         PRCP      0   NaN   NaN     E      NaN\n",
      "...             ...       ...          ...    ...   ...   ...   ...      ...\n",
      "514078  UZM00038457  18821231         PRCP      0   NaN   NaN     r      NaN\n",
      "514079  UZM00038457  18821231         TAVG     16   NaN   NaN     r      NaN\n",
      "514080  UZM00038618  18821231         TMIN     10   NaN   NaN     r      NaN\n",
      "514081  UZM00038618  18821231         PRCP      0   NaN   NaN     r      NaN\n",
      "514082  UZM00038618  18821231         TAVG     33   NaN   NaN     r      NaN\n",
      "\n",
      "[514083 rows x 8 columns],                  id      date element_code  value mflag qflag sflag  obstime\n",
      "0       AGE00135039  18830101         PRCP      0   NaN   NaN     E      NaN\n",
      "1       AGE00147705  18830101         PRCP      0   NaN   NaN     E      NaN\n",
      "2       AGE00147708  18830101         PRCP      0   NaN   NaN     E      NaN\n",
      "3       AGE00147709  18830101         PRCP      0   NaN   NaN     E      NaN\n",
      "4       AGE00147711  18830101         PRCP      0   NaN   NaN     E      NaN\n",
      "...             ...       ...          ...    ...   ...   ...   ...      ...\n",
      "578725  UZM00038457  18831231         PRCP      0   NaN   NaN     r      NaN\n",
      "578726  UZM00038457  18831231         TAVG    -69   NaN   NaN     r      NaN\n",
      "578727  UZM00038618  18831231         TMIN    -22   NaN   NaN     r      NaN\n",
      "578728  UZM00038618  18831231         PRCP      0   NaN   NaN     r      NaN\n",
      "578729  UZM00038618  18831231         TAVG      1   NaN   NaN     r      NaN\n",
      "\n",
      "[578730 rows x 8 columns]]\n"
     ]
    }
   ],
   "source": [
    "print(mydataframes)"
   ]
  },
  {
   "cell_type": "code",
   "execution_count": 67,
   "id": "ceecad04-3819-49de-b740-bf7d69e242dc",
   "metadata": {},
   "outputs": [
    {
     "name": "stdout",
     "output_type": "stream",
     "text": [
      "Index(['id', 'date', 'element_code', 'value', 'mflag', 'qflag', 'sflag',\n",
      "       'obstime'],\n",
      "      dtype='object')\n",
      "Index(['id', 'date', 'element_code', 'value', 'mflag', 'qflag', 'sflag',\n",
      "       'obstime'],\n",
      "      dtype='object')\n",
      "Index(['id', 'date', 'element_code', 'value', 'mflag', 'qflag', 'sflag',\n",
      "       'obstime'],\n",
      "      dtype='object')\n",
      "Index(['id', 'date', 'element_code', 'value', 'mflag', 'qflag', 'sflag',\n",
      "       'obstime'],\n",
      "      dtype='object')\n"
     ]
    }
   ],
   "source": [
    "for i in range(0,4):\n",
    "    print(mydataframes[i].columns) #Tried not using print. Did not work inside of the for loop"
   ]
  },
  {
   "cell_type": "markdown",
   "id": "da22f29c-d245-4d2b-9fc1-ca14cb6087d9",
   "metadata": {},
   "source": [
    "## Question 4"
   ]
  },
  {
   "cell_type": "code",
   "execution_count": 73,
   "id": "8cffc767-d1c8-4d64-b7dc-f0d2ee8a80d1",
   "metadata": {},
   "outputs": [
    {
     "name": "stdout",
     "output_type": "stream",
     "text": [
      "['PRCP' 'TMAX' 'TMIN' 'SNOW' 'SNWD' 'TAVG' 'MDPR' 'DATN' 'DATX' 'MDTN'\n",
      " 'MDTX' 'DAPR' 'DWPR' 'MDSF' 'WT01' 'TOBS' 'WT04' 'WT05']\n",
      "['PRCP' 'TMAX' 'TMIN' 'TAVG' 'SNOW' 'SNWD' 'MDPR' 'MDSF' 'DATN' 'DATX'\n",
      " 'MDTN' 'MDTX' 'WT04' 'DAPR' 'DWPR' 'TOBS']\n",
      "['PRCP' 'TMAX' 'TMIN' 'TAVG' 'SNOW' 'SNWD' 'DATN' 'DATX' 'MDTN' 'MDTX'\n",
      " 'DAPR' 'DWPR' 'MDPR' 'MDSF' 'WT04' 'TOBS' 'WT05' 'WT03' 'WT16' 'WT18'\n",
      " 'DASF']\n",
      "['PRCP' 'TMAX' 'TMIN' 'TAVG' 'SNOW' 'SNWD' 'DAPR' 'DWPR' 'MDPR' 'MDSF'\n",
      " 'WT11' 'DATN' 'DATX' 'MDTN' 'MDTX' 'WT03' 'DASF' 'WT18' 'WT04' 'WT16'\n",
      " 'WT08']\n"
     ]
    }
   ],
   "source": [
    "for mydf in mydataframes:\n",
    "    print(mydf['element_code'].unique())"
   ]
  },
  {
   "cell_type": "code",
   "execution_count": 83,
   "id": "0d989261-8383-4d93-b461-0b3948c6bc29",
   "metadata": {},
   "outputs": [
    {
     "name": "stdout",
     "output_type": "stream",
     "text": [
      "33700\n",
      "36451\n",
      "40648\n",
      "53417\n"
     ]
    }
   ],
   "source": [
    "for mydf in mydataframes:\n",
    "    print(mydf['element_code'].value_counts()[\"SNOW\"])"
   ]
  },
  {
   "cell_type": "markdown",
   "id": "0d552245-b4d6-474a-9cc9-fa7b8e674d55",
   "metadata": {},
   "source": [
    "Markdown notes and sentences and analysis written here."
   ]
  },
  {
   "cell_type": "markdown",
   "id": "88c9cdac-3e92-498f-83fa-e089bfc44ac8",
   "metadata": {},
   "source": [
    "## Question 5"
   ]
  },
  {
   "cell_type": "code",
   "execution_count": 79,
   "id": "d370d7c9-06db-42b9-b75f-240481a5c491",
   "metadata": {},
   "outputs": [],
   "source": [
    "import pandas as pd\n",
    "from pathlib import Path\n",
    "myfiles=[]\n",
    "for year in range (1880, 1884):\n",
    "    file= Path(f'/anvil/projects/tdm/data/noaa/{year}.csv')\n",
    "    myfiles.append(file)"
   ]
  },
  {
   "cell_type": "code",
   "execution_count": 80,
   "id": "9a4565a0-fd0e-40ea-9255-227235643cee",
   "metadata": {},
   "outputs": [
    {
     "name": "stdout",
     "output_type": "stream",
     "text": [
      "164216\n"
     ]
    }
   ],
   "source": [
    "count = 0\n",
    "for file in myfiles:\n",
    "    for myDF in pd.read_csv(file,names=[\"id\",\"date\",\"element_code\",\"value\",\"mflag\",\"qflag\",\"sflag\",\"obstime\"],chunksize =10000):\n",
    "        count += len(myDF[myDF['element_code'] == 'SNOW'])\n",
    "\n",
    "print(count)"
   ]
  },
  {
   "cell_type": "code",
   "execution_count": 81,
   "id": "cba5518e-18f5-49c6-b201-8738a67de764",
   "metadata": {},
   "outputs": [
    {
     "name": "stdout",
     "output_type": "stream",
     "text": [
      "164216\n"
     ]
    }
   ],
   "source": [
    "count = 0\n",
    "for file in myfiles:\n",
    "    for myDF in pd.read_csv(file,names=[\"id\",\"date\",\"element_code\",\"value\",\"mflag\",\"qflag\",\"sflag\",\"obstime\"],chunksize =10000):\n",
    "        for index, row in myDF.iterrows():\n",
    "            if row['element_code'] == 'SNOW':\n",
    "                count += 1\n",
    "\n",
    "print(count)"
   ]
  },
  {
   "cell_type": "markdown",
   "id": "9fbf00fb-2418-460f-ae94-2a32b0c28952",
   "metadata": {},
   "source": [
    "From my understanding. Chunk sizes mean that you create a different which is has less memory cost to run. You divide the dataframes by chunks that save the info and then it goes through the chunks iteratively when called upon. This means you load less information into the file, as it will call for the info when needed."
   ]
  },
  {
   "cell_type": "markdown",
   "id": "f76442d6-d02e-4f26-b9d6-c3183e1d6929",
   "metadata": {},
   "source": [
    "## Pledge\n",
    "\n",
    "By submitting this work I hereby pledge that this is my own, personal work. I've acknowledged in the designated place at the top of this file all sources that I used to complete said work, including but not limited to: online resources, books, and electronic communications. I've noted all collaboration with fellow students and/or TA's. I did not copy or plagiarize another's work.\n",
    "\n",
    "> As a Boilermaker pursuing academic excellence, I pledge to be honest and true in all that I do. Accountable together – We are Purdue."
   ]
  }
 ],
 "metadata": {
  "kernelspec": {
   "display_name": "seminar",
   "language": "python",
   "name": "seminar"
  },
  "language_info": {
   "codemirror_mode": {
    "name": "ipython",
    "version": 3
   },
   "file_extension": ".py",
   "mimetype": "text/x-python",
   "name": "python",
   "nbconvert_exporter": "python",
   "pygments_lexer": "ipython3",
   "version": "3.11.5"
  }
 },
 "nbformat": 4,
 "nbformat_minor": 5
}
